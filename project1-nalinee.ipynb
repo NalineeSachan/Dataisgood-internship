{
 "cells": [
  {
   "cell_type": "code",
   "execution_count": 1,
   "id": "89e01975",
   "metadata": {},
   "outputs": [
    {
     "name": "stdout",
     "output_type": "stream",
     "text": [
      "Requirement already satisfied: MySQL-connector-python in c:\\users\\vivek\\anaconda3\\lib\\site-packages (8.0.32)\n",
      "Requirement already satisfied: protobuf<=3.20.3,>=3.11.0 in c:\\users\\vivek\\anaconda3\\lib\\site-packages (from MySQL-connector-python) (3.20.3)\n",
      "Note: you may need to restart the kernel to use updated packages.\n"
     ]
    }
   ],
   "source": [
    "pip install MySQL-connector-python"
   ]
  },
  {
   "cell_type": "code",
   "execution_count": 2,
   "id": "3c4eec86",
   "metadata": {},
   "outputs": [],
   "source": [
    "import mysql.connector\n",
    "from mysql.connector import Error\n",
    "import pandas as pd"
   ]
  },
  {
   "cell_type": "code",
   "execution_count": 6,
   "id": "fcb4d16e",
   "metadata": {},
   "outputs": [
    {
     "name": "stdout",
     "output_type": "stream",
     "text": [
      "My Connection Successful\n"
     ]
    },
    {
     "data": {
      "text/plain": [
       "<mysql.connector.connection_cext.CMySQLConnection at 0x21c148ea310>"
      ]
     },
     "execution_count": 6,
     "metadata": {},
     "output_type": "execute_result"
    }
   ],
   "source": [
    "def create_server_connection(host_name,user_name,user_password):\n",
    "    global connection\n",
    "    connection = None\n",
    "    try:\n",
    "        connection = mysql.connector.connect(host = host_name,user = user_name,password= user_password)\n",
    "        print(\"My Connection Successful\")\n",
    "    except Error as er:\n",
    "        print(f\" Error : {er}\")\n",
    "    return connection\n",
    "ps = \"Iwish@12345\"\n",
    "db = \"project1\"\n",
    "\n",
    "create_server_connection(\"localhost\",\"root\",ps)"
   ]
  },
  {
   "cell_type": "code",
   "execution_count": 9,
   "id": "28e627d2",
   "metadata": {},
   "outputs": [
    {
     "name": "stdout",
     "output_type": "stream",
     "text": [
      " Error : 1007 (HY000): Can't create database 'project1'; database exists\n"
     ]
    }
   ],
   "source": [
    "def create_database(connection,query):\n",
    "    cursor = connection.cursor()\n",
    "    try:\n",
    "        cursor.execute(query)\n",
    "        print(\"Database created Successfully\")\n",
    "    except Error as er:\n",
    "        print(f\" Error : {er}\")\n",
    "query1 = \"create database project1\"\n",
    "create_database(connection,query1)"
   ]
  },
  {
   "cell_type": "code",
   "execution_count": 11,
   "id": "7b8d5bb1",
   "metadata": {},
   "outputs": [],
   "source": [
    "def create_db_connection(host_name,user_name,user_password,db_name):\n",
    "    connection = None\n",
    "    try:\n",
    "        connection = mysql.connector.connect(host=host_name,user=user_name,password=user_password,database=db_name)\n",
    "        print(\"Database connection successfully\")\n",
    "    except Error as er:\n",
    "        print(f\" Error :{er}\")\n",
    "    return connection"
   ]
  },
  {
   "cell_type": "code",
   "execution_count": 23,
   "id": "ad7c479d",
   "metadata": {},
   "outputs": [],
   "source": [
    "global cursor\n",
    "def execute_query(connection,query):\n",
    "    cursor=connection.cursor()\n",
    "    try:\n",
    "        cursor.execute(query)\n",
    "        connection.commit()\n",
    "        print(\"Query was successful\")\n",
    "        \n",
    "    except Error as er:\n",
    "        print(f\" Error :{er}\")\n"
   ]
  },
  {
   "cell_type": "code",
   "execution_count": 27,
   "id": "e91a3024",
   "metadata": {},
   "outputs": [
    {
     "name": "stdout",
     "output_type": "stream",
     "text": [
      "Database connection successfully\n",
      " Error :1050 (42S01): Table 'student' already exists\n"
     ]
    }
   ],
   "source": [
    "create_table_student=\"\"\"\n",
    "CREATE TABLE student\n",
    "(roll_no INT,student_name VARCHAR(30),father_name VARCHAR(30),class VARCHAR(20),dob DATE,gender VARCHAR(20),\n",
    "mobile_no VARCHAR(20));\n",
    "\"\"\"\n",
    "\n",
    "connection = create_db_connection(\"localhost\",\"root\",ps,db)\n",
    "execute_query(connection,create_table_student) \n"
   ]
  },
  {
   "cell_type": "code",
   "execution_count": 28,
   "id": "3222e432",
   "metadata": {},
   "outputs": [
    {
     "name": "stdout",
     "output_type": "stream",
     "text": [
      "Database connection successfully\n",
      "Query was successful\n"
     ]
    }
   ],
   "source": [
    "insert_student=\"\"\"\n",
    "INSERT INTO student VALUES\n",
    "(1,\"mayank verma\",\"hari verma\",\"third\",\"20.05.2010\",\"male\",\"8696931112\"),\n",
    "(2,\"priyanshu\",\"madan lal\",\"third\",\"05.09.2010\",\"male\",\"8696931756\"),\n",
    "(3,\"anshika\",\"anuj gupta\",\"third\",\"27.03.2010\",\"female\",\"8696931632\"),\n",
    "(4,\"aarav\",\"rajbir singh\",\"third\",\"02.02.2010\",\"male\",\"8696931489\");\n",
    "\"\"\"\n",
    "connection = create_db_connection(\"localhost\",\"root\",ps,db)\n",
    "execute_query(connection,insert_student) "
   ]
  },
  {
   "cell_type": "code",
   "execution_count": 37,
   "id": "a859afb6",
   "metadata": {},
   "outputs": [],
   "source": [
    "def read_query(connection,query):\n",
    "    cursor = connection.cursor()\n",
    "    result = None\n",
    "    try:\n",
    "        cursor.execute(query)\n",
    "        result = cursor.fetchall()\n",
    "        return result\n",
    "    except Error as er:\n",
    "        print(f\" Error : {er}\")\n",
    "        "
   ]
  },
  {
   "cell_type": "code",
   "execution_count": 38,
   "id": "8d7a5ed1",
   "metadata": {},
   "outputs": [
    {
     "name": "stdout",
     "output_type": "stream",
     "text": [
      "Database connection successfully\n"
     ]
    },
    {
     "data": {
      "text/html": [
       "<div>\n",
       "<style scoped>\n",
       "    .dataframe tbody tr th:only-of-type {\n",
       "        vertical-align: middle;\n",
       "    }\n",
       "\n",
       "    .dataframe tbody tr th {\n",
       "        vertical-align: top;\n",
       "    }\n",
       "\n",
       "    .dataframe thead th {\n",
       "        text-align: right;\n",
       "    }\n",
       "</style>\n",
       "<table border=\"1\" class=\"dataframe\">\n",
       "  <thead>\n",
       "    <tr style=\"text-align: right;\">\n",
       "      <th></th>\n",
       "      <th>roll_no</th>\n",
       "      <th>student_name</th>\n",
       "      <th>father_name</th>\n",
       "      <th>class</th>\n",
       "      <th>dob</th>\n",
       "      <th>gender</th>\n",
       "      <th>mobile_no</th>\n",
       "    </tr>\n",
       "  </thead>\n",
       "  <tbody>\n",
       "    <tr>\n",
       "      <th>0</th>\n",
       "      <td>1</td>\n",
       "      <td>mayank verma</td>\n",
       "      <td>hari verma</td>\n",
       "      <td>third</td>\n",
       "      <td>2020-05-20</td>\n",
       "      <td>male</td>\n",
       "      <td>8696931112</td>\n",
       "    </tr>\n",
       "    <tr>\n",
       "      <th>1</th>\n",
       "      <td>2</td>\n",
       "      <td>priyanshu</td>\n",
       "      <td>madan lal</td>\n",
       "      <td>third</td>\n",
       "      <td>2005-09-20</td>\n",
       "      <td>male</td>\n",
       "      <td>8696931756</td>\n",
       "    </tr>\n",
       "    <tr>\n",
       "      <th>2</th>\n",
       "      <td>3</td>\n",
       "      <td>anshika</td>\n",
       "      <td>anuj gupta</td>\n",
       "      <td>third</td>\n",
       "      <td>2027-03-20</td>\n",
       "      <td>female</td>\n",
       "      <td>8696931632</td>\n",
       "    </tr>\n",
       "    <tr>\n",
       "      <th>3</th>\n",
       "      <td>4</td>\n",
       "      <td>aarav</td>\n",
       "      <td>rajbir singh</td>\n",
       "      <td>third</td>\n",
       "      <td>2002-02-20</td>\n",
       "      <td>male</td>\n",
       "      <td>8696931489</td>\n",
       "    </tr>\n",
       "  </tbody>\n",
       "</table>\n",
       "</div>"
      ],
      "text/plain": [
       "   roll_no  student_name   father_name  class         dob  gender   mobile_no\n",
       "0        1  mayank verma    hari verma  third  2020-05-20    male  8696931112\n",
       "1        2     priyanshu     madan lal  third  2005-09-20    male  8696931756\n",
       "2        3       anshika    anuj gupta  third  2027-03-20  female  8696931632\n",
       "3        4         aarav  rajbir singh  third  2002-02-20    male  8696931489"
      ]
     },
     "metadata": {},
     "output_type": "display_data"
    }
   ],
   "source": [
    "Q1 = \"\"\"\n",
    "select * from student;\n",
    "\"\"\"\n",
    "\n",
    "connection = create_db_connection(\"localhost\",\"root\",ps,db)\n",
    "results = read_query(connection,Q1)\n",
    "\n",
    "from_db =[]\n",
    "\n",
    "for result in results:\n",
    "    result = list(result)\n",
    "    from_db.append(result)\n",
    "columns = [\"roll_no\",\"student_name\",\"father_name\",\"class\",\"dob\",\"gender\",\"mobile_no\"]\n",
    "\n",
    "df = pd.DataFrame(from_db, columns = columns)\n",
    "display(df)"
   ]
  },
  {
   "cell_type": "code",
   "execution_count": 41,
   "id": "fe6ef3dd",
   "metadata": {},
   "outputs": [
    {
     "name": "stdout",
     "output_type": "stream",
     "text": [
      "Database connection successfully\n",
      "Query was successful\n"
     ]
    }
   ],
   "source": [
    "# Deleting a row from table\n",
    "\n",
    "Q2 =\"\"\"\n",
    "delete from student where roll_no=2;\n",
    "\"\"\"             \n",
    "connection = create_db_connection(\"localhost\",\"root\",ps,db)\n",
    "execute_query(connection,Q2) \n",
    "\n"
   ]
  },
  {
   "cell_type": "code",
   "execution_count": 44,
   "id": "e33ce0ba",
   "metadata": {},
   "outputs": [
    {
     "name": "stdout",
     "output_type": "stream",
     "text": [
      "Database connection successfully\n"
     ]
    },
    {
     "data": {
      "text/html": [
       "<div>\n",
       "<style scoped>\n",
       "    .dataframe tbody tr th:only-of-type {\n",
       "        vertical-align: middle;\n",
       "    }\n",
       "\n",
       "    .dataframe tbody tr th {\n",
       "        vertical-align: top;\n",
       "    }\n",
       "\n",
       "    .dataframe thead th {\n",
       "        text-align: right;\n",
       "    }\n",
       "</style>\n",
       "<table border=\"1\" class=\"dataframe\">\n",
       "  <thead>\n",
       "    <tr style=\"text-align: right;\">\n",
       "      <th></th>\n",
       "      <th>roll_no</th>\n",
       "      <th>student_name</th>\n",
       "      <th>father_name</th>\n",
       "      <th>class</th>\n",
       "      <th>dob</th>\n",
       "      <th>gender</th>\n",
       "      <th>mobile_no</th>\n",
       "    </tr>\n",
       "  </thead>\n",
       "  <tbody>\n",
       "    <tr>\n",
       "      <th>0</th>\n",
       "      <td>1</td>\n",
       "      <td>mayank verma</td>\n",
       "      <td>hari verma</td>\n",
       "      <td>third</td>\n",
       "      <td>2020-05-20</td>\n",
       "      <td>male</td>\n",
       "      <td>8696931112</td>\n",
       "    </tr>\n",
       "    <tr>\n",
       "      <th>1</th>\n",
       "      <td>3</td>\n",
       "      <td>anshika</td>\n",
       "      <td>anuj gupta</td>\n",
       "      <td>third</td>\n",
       "      <td>2027-03-20</td>\n",
       "      <td>female</td>\n",
       "      <td>8696931632</td>\n",
       "    </tr>\n",
       "    <tr>\n",
       "      <th>2</th>\n",
       "      <td>4</td>\n",
       "      <td>aarav</td>\n",
       "      <td>rajbir singh</td>\n",
       "      <td>third</td>\n",
       "      <td>2002-02-20</td>\n",
       "      <td>male</td>\n",
       "      <td>8696931489</td>\n",
       "    </tr>\n",
       "  </tbody>\n",
       "</table>\n",
       "</div>"
      ],
      "text/plain": [
       "   roll_no  student_name   father_name  class         dob  gender   mobile_no\n",
       "0        1  mayank verma    hari verma  third  2020-05-20    male  8696931112\n",
       "1        3       anshika    anuj gupta  third  2027-03-20  female  8696931632\n",
       "2        4         aarav  rajbir singh  third  2002-02-20    male  8696931489"
      ]
     },
     "metadata": {},
     "output_type": "display_data"
    }
   ],
   "source": [
    "Q1 = \"\"\"\n",
    "select * from student;\n",
    "\"\"\"\n",
    "\n",
    "connection = create_db_connection(\"localhost\",\"root\",ps,db)\n",
    "results = read_query(connection,Q1)\n",
    "\n",
    "from_db =[]\n",
    "\n",
    "for result in results:\n",
    "    result = list(result)\n",
    "    from_db.append(result)\n",
    "columns = [\"roll_no\",\"student_name\",\"father_name\",\"class\",\"dob\",\"gender\",\"mobile_no\"]\n",
    "\n",
    "df = pd.DataFrame(from_db, columns = columns)\n",
    "display(df)"
   ]
  },
  {
   "cell_type": "code",
   "execution_count": 45,
   "id": "5b0135a8",
   "metadata": {},
   "outputs": [
    {
     "name": "stdout",
     "output_type": "stream",
     "text": [
      "Database connection successfully\n",
      "Query was successful\n"
     ]
    }
   ],
   "source": [
    "# Updating the record\n",
    "Q3 =\"\"\"\n",
    "update student set father_name=\"ranjit singh\" where roll_no=4;\n",
    "\"\"\" \n",
    "connection = create_db_connection(\"localhost\",\"root\",ps,db)\n",
    "execute_query(connection,Q3)"
   ]
  },
  {
   "cell_type": "code",
   "execution_count": 47,
   "id": "88f59eea",
   "metadata": {},
   "outputs": [
    {
     "name": "stdout",
     "output_type": "stream",
     "text": [
      "Database connection successfully\n"
     ]
    },
    {
     "data": {
      "text/html": [
       "<div>\n",
       "<style scoped>\n",
       "    .dataframe tbody tr th:only-of-type {\n",
       "        vertical-align: middle;\n",
       "    }\n",
       "\n",
       "    .dataframe tbody tr th {\n",
       "        vertical-align: top;\n",
       "    }\n",
       "\n",
       "    .dataframe thead th {\n",
       "        text-align: right;\n",
       "    }\n",
       "</style>\n",
       "<table border=\"1\" class=\"dataframe\">\n",
       "  <thead>\n",
       "    <tr style=\"text-align: right;\">\n",
       "      <th></th>\n",
       "      <th>roll_no</th>\n",
       "      <th>student_name</th>\n",
       "      <th>father_name</th>\n",
       "      <th>class</th>\n",
       "      <th>dob</th>\n",
       "      <th>gender</th>\n",
       "      <th>mobile_no</th>\n",
       "    </tr>\n",
       "  </thead>\n",
       "  <tbody>\n",
       "    <tr>\n",
       "      <th>0</th>\n",
       "      <td>1</td>\n",
       "      <td>mayank verma</td>\n",
       "      <td>hari verma</td>\n",
       "      <td>third</td>\n",
       "      <td>2020-05-20</td>\n",
       "      <td>male</td>\n",
       "      <td>8696931112</td>\n",
       "    </tr>\n",
       "    <tr>\n",
       "      <th>1</th>\n",
       "      <td>3</td>\n",
       "      <td>anshika</td>\n",
       "      <td>anuj gupta</td>\n",
       "      <td>third</td>\n",
       "      <td>2027-03-20</td>\n",
       "      <td>female</td>\n",
       "      <td>8696931632</td>\n",
       "    </tr>\n",
       "    <tr>\n",
       "      <th>2</th>\n",
       "      <td>4</td>\n",
       "      <td>aarav</td>\n",
       "      <td>ranjit singh</td>\n",
       "      <td>third</td>\n",
       "      <td>2002-02-20</td>\n",
       "      <td>male</td>\n",
       "      <td>8696931489</td>\n",
       "    </tr>\n",
       "  </tbody>\n",
       "</table>\n",
       "</div>"
      ],
      "text/plain": [
       "   roll_no  student_name   father_name  class         dob  gender   mobile_no\n",
       "0        1  mayank verma    hari verma  third  2020-05-20    male  8696931112\n",
       "1        3       anshika    anuj gupta  third  2027-03-20  female  8696931632\n",
       "2        4         aarav  ranjit singh  third  2002-02-20    male  8696931489"
      ]
     },
     "metadata": {},
     "output_type": "display_data"
    }
   ],
   "source": [
    "Q1 = \"\"\"\n",
    "select * from student;\n",
    "\"\"\"\n",
    "\n",
    "connection = create_db_connection(\"localhost\",\"root\",ps,db)\n",
    "results = read_query(connection,Q1)\n",
    "\n",
    "from_db =[]\n",
    "\n",
    "for result in results:\n",
    "    result = list(result)\n",
    "    from_db.append(result)\n",
    "columns = [\"roll_no\",\"student_name\",\"father_name\",\"class\",\"dob\",\"gender\",\"mobile_no\"]\n",
    "\n",
    "df = pd.DataFrame(from_db, columns = columns)\n",
    "display(df)"
   ]
  },
  {
   "cell_type": "code",
   "execution_count": 52,
   "id": "bcdb47a4",
   "metadata": {},
   "outputs": [
    {
     "name": "stdout",
     "output_type": "stream",
     "text": [
      "Database connection successfully\n"
     ]
    },
    {
     "data": {
      "text/html": [
       "<div>\n",
       "<style scoped>\n",
       "    .dataframe tbody tr th:only-of-type {\n",
       "        vertical-align: middle;\n",
       "    }\n",
       "\n",
       "    .dataframe tbody tr th {\n",
       "        vertical-align: top;\n",
       "    }\n",
       "\n",
       "    .dataframe thead th {\n",
       "        text-align: right;\n",
       "    }\n",
       "</style>\n",
       "<table border=\"1\" class=\"dataframe\">\n",
       "  <thead>\n",
       "    <tr style=\"text-align: right;\">\n",
       "      <th></th>\n",
       "      <th>roll_no</th>\n",
       "      <th>student_name</th>\n",
       "      <th>father_name</th>\n",
       "      <th>class</th>\n",
       "      <th>dob</th>\n",
       "      <th>gender</th>\n",
       "      <th>mobile_no</th>\n",
       "    </tr>\n",
       "  </thead>\n",
       "  <tbody>\n",
       "    <tr>\n",
       "      <th>0</th>\n",
       "      <td>1</td>\n",
       "      <td>mayank verma</td>\n",
       "      <td>hari verma</td>\n",
       "      <td>third</td>\n",
       "      <td>2020-05-20</td>\n",
       "      <td>male</td>\n",
       "      <td>8696931112</td>\n",
       "    </tr>\n",
       "    <tr>\n",
       "      <th>1</th>\n",
       "      <td>4</td>\n",
       "      <td>aarav</td>\n",
       "      <td>ranjit singh</td>\n",
       "      <td>third</td>\n",
       "      <td>2002-02-20</td>\n",
       "      <td>male</td>\n",
       "      <td>8696931489</td>\n",
       "    </tr>\n",
       "  </tbody>\n",
       "</table>\n",
       "</div>"
      ],
      "text/plain": [
       "   roll_no  student_name   father_name  class         dob gender   mobile_no\n",
       "0        1  mayank verma    hari verma  third  2020-05-20   male  8696931112\n",
       "1        4         aarav  ranjit singh  third  2002-02-20   male  8696931489"
      ]
     },
     "metadata": {},
     "output_type": "display_data"
    }
   ],
   "source": [
    "# fetching a record with some condition\n",
    "\n",
    "Q4 =\"select * from student where gender='male';\"\n",
    "\n",
    "connection = create_db_connection(\"localhost\",\"root\",ps,db)\n",
    "results = read_query(connection,Q4)\n",
    "\n",
    "from_db =[]\n",
    "\n",
    "for result in results:\n",
    "    result = list(result)\n",
    "    from_db.append(result)\n",
    "columns = [\"roll_no\",\"student_name\",\"father_name\",\"class\",\"dob\",\"gender\",\"mobile_no\"]\n",
    "\n",
    "df = pd.DataFrame(from_db, columns = columns)\n",
    "display(df)"
   ]
  },
  {
   "cell_type": "code",
   "execution_count": 53,
   "id": "2ab8a460",
   "metadata": {},
   "outputs": [
    {
     "name": "stdout",
     "output_type": "stream",
     "text": [
      "Database connection successfully\n",
      "Query was successful\n"
     ]
    }
   ],
   "source": [
    "# inserting more values\n",
    "insert_student=\"\"\"\n",
    "INSERT INTO student VALUES\n",
    "(5,\"nishant\",\"vikash soni\",\"third\",\"10.01.2010\",\"male\",\"8696931753\"),\n",
    "(2,\"priyanshu\",\"madan lal\",\"third\",\"05.09.2010\",\"male\",\"8696931756\"),\n",
    "(3,\"vanshika\",\"siddhatha namdev\",\"third\",\"27.09.2010\",\"female\",\"8696931159\"),\n",
    "(4,\"anuraj\",\"kapil sen\",\"third\",\"30.11.2010\",\"male\",\"8696931731\");\n",
    "\"\"\"\n",
    "connection = create_db_connection(\"localhost\",\"root\",ps,db)\n",
    "execute_query(connection,insert_student) \n"
   ]
  },
  {
   "cell_type": "code",
   "execution_count": 55,
   "id": "7474fffc",
   "metadata": {},
   "outputs": [
    {
     "name": "stdout",
     "output_type": "stream",
     "text": [
      "Database connection successfully\n"
     ]
    },
    {
     "data": {
      "text/html": [
       "<div>\n",
       "<style scoped>\n",
       "    .dataframe tbody tr th:only-of-type {\n",
       "        vertical-align: middle;\n",
       "    }\n",
       "\n",
       "    .dataframe tbody tr th {\n",
       "        vertical-align: top;\n",
       "    }\n",
       "\n",
       "    .dataframe thead th {\n",
       "        text-align: right;\n",
       "    }\n",
       "</style>\n",
       "<table border=\"1\" class=\"dataframe\">\n",
       "  <thead>\n",
       "    <tr style=\"text-align: right;\">\n",
       "      <th></th>\n",
       "      <th>roll_no</th>\n",
       "      <th>student_name</th>\n",
       "      <th>father_name</th>\n",
       "      <th>class</th>\n",
       "      <th>dob</th>\n",
       "      <th>gender</th>\n",
       "      <th>mobile_no</th>\n",
       "    </tr>\n",
       "  </thead>\n",
       "  <tbody>\n",
       "    <tr>\n",
       "      <th>0</th>\n",
       "      <td>4</td>\n",
       "      <td>aarav</td>\n",
       "      <td>ranjit singh</td>\n",
       "      <td>third</td>\n",
       "      <td>2002-02-20</td>\n",
       "      <td>male</td>\n",
       "      <td>8696931489</td>\n",
       "    </tr>\n",
       "    <tr>\n",
       "      <th>1</th>\n",
       "      <td>3</td>\n",
       "      <td>anshika</td>\n",
       "      <td>anuj gupta</td>\n",
       "      <td>third</td>\n",
       "      <td>2027-03-20</td>\n",
       "      <td>female</td>\n",
       "      <td>8696931632</td>\n",
       "    </tr>\n",
       "    <tr>\n",
       "      <th>2</th>\n",
       "      <td>4</td>\n",
       "      <td>anuraj</td>\n",
       "      <td>kapil sen</td>\n",
       "      <td>third</td>\n",
       "      <td>2030-11-20</td>\n",
       "      <td>male</td>\n",
       "      <td>8696931731</td>\n",
       "    </tr>\n",
       "    <tr>\n",
       "      <th>3</th>\n",
       "      <td>1</td>\n",
       "      <td>mayank verma</td>\n",
       "      <td>hari verma</td>\n",
       "      <td>third</td>\n",
       "      <td>2020-05-20</td>\n",
       "      <td>male</td>\n",
       "      <td>8696931112</td>\n",
       "    </tr>\n",
       "    <tr>\n",
       "      <th>4</th>\n",
       "      <td>5</td>\n",
       "      <td>nishant</td>\n",
       "      <td>vikash soni</td>\n",
       "      <td>third</td>\n",
       "      <td>2010-01-20</td>\n",
       "      <td>male</td>\n",
       "      <td>8696931753</td>\n",
       "    </tr>\n",
       "    <tr>\n",
       "      <th>5</th>\n",
       "      <td>2</td>\n",
       "      <td>priyanshu</td>\n",
       "      <td>madan lal</td>\n",
       "      <td>third</td>\n",
       "      <td>2005-09-20</td>\n",
       "      <td>male</td>\n",
       "      <td>8696931756</td>\n",
       "    </tr>\n",
       "    <tr>\n",
       "      <th>6</th>\n",
       "      <td>3</td>\n",
       "      <td>vanshika</td>\n",
       "      <td>siddhatha namdev</td>\n",
       "      <td>third</td>\n",
       "      <td>2027-09-20</td>\n",
       "      <td>female</td>\n",
       "      <td>8696931159</td>\n",
       "    </tr>\n",
       "  </tbody>\n",
       "</table>\n",
       "</div>"
      ],
      "text/plain": [
       "   roll_no  student_name       father_name  class         dob  gender  \\\n",
       "0        4         aarav      ranjit singh  third  2002-02-20    male   \n",
       "1        3       anshika        anuj gupta  third  2027-03-20  female   \n",
       "2        4        anuraj         kapil sen  third  2030-11-20    male   \n",
       "3        1  mayank verma        hari verma  third  2020-05-20    male   \n",
       "4        5       nishant       vikash soni  third  2010-01-20    male   \n",
       "5        2     priyanshu         madan lal  third  2005-09-20    male   \n",
       "6        3      vanshika  siddhatha namdev  third  2027-09-20  female   \n",
       "\n",
       "    mobile_no  \n",
       "0  8696931489  \n",
       "1  8696931632  \n",
       "2  8696931731  \n",
       "3  8696931112  \n",
       "4  8696931753  \n",
       "5  8696931756  \n",
       "6  8696931159  "
      ]
     },
     "metadata": {},
     "output_type": "display_data"
    }
   ],
   "source": [
    "Q5 =\"select * from student order by student_name;\"\n",
    "\n",
    "connection = create_db_connection(\"localhost\",\"root\",ps,db)\n",
    "results = read_query(connection,Q5)\n",
    "\n",
    "from_db=[]\n",
    "for result in results:\n",
    "    result=list(result)\n",
    "    from_db.append(result)\n",
    "columns = [\"roll_no\",\"student_name\",\"father_name\",\"class\",\"dob\",\"gender\",\"mobile_no\"]\n",
    "df = pd.DataFrame(from_db,columns=columns)\n",
    "display(df)"
   ]
  },
  {
   "cell_type": "code",
   "execution_count": 56,
   "id": "661bd2e3",
   "metadata": {},
   "outputs": [
    {
     "name": "stdout",
     "output_type": "stream",
     "text": [
      "Database connection successfully\n",
      "Query was successful\n"
     ]
    }
   ],
   "source": [
    "Q3 =\"\"\"\n",
    "update student set roll_no=6 where student_name='vanshika';\n",
    "\"\"\" \n",
    "connection = create_db_connection(\"localhost\",\"root\",ps,db)\n",
    "execute_query(connection,Q3)"
   ]
  },
  {
   "cell_type": "code",
   "execution_count": 58,
   "id": "8d42e4dd",
   "metadata": {},
   "outputs": [
    {
     "name": "stdout",
     "output_type": "stream",
     "text": [
      "Database connection successfully\n",
      "Query was successful\n"
     ]
    }
   ],
   "source": [
    "Q3 =\"\"\"\n",
    "update student set roll_no=7 where student_name='anuraj';\n",
    "\"\"\" \n",
    "connection = create_db_connection(\"localhost\",\"root\",ps,db)\n",
    "execute_query(connection,Q3)"
   ]
  },
  {
   "cell_type": "code",
   "execution_count": 60,
   "id": "add930ce",
   "metadata": {},
   "outputs": [
    {
     "name": "stdout",
     "output_type": "stream",
     "text": [
      "Database connection successfully\n"
     ]
    },
    {
     "data": {
      "text/html": [
       "<div>\n",
       "<style scoped>\n",
       "    .dataframe tbody tr th:only-of-type {\n",
       "        vertical-align: middle;\n",
       "    }\n",
       "\n",
       "    .dataframe tbody tr th {\n",
       "        vertical-align: top;\n",
       "    }\n",
       "\n",
       "    .dataframe thead th {\n",
       "        text-align: right;\n",
       "    }\n",
       "</style>\n",
       "<table border=\"1\" class=\"dataframe\">\n",
       "  <thead>\n",
       "    <tr style=\"text-align: right;\">\n",
       "      <th></th>\n",
       "      <th>roll_no</th>\n",
       "      <th>student_name</th>\n",
       "      <th>father_name</th>\n",
       "      <th>class</th>\n",
       "      <th>dob</th>\n",
       "      <th>gender</th>\n",
       "      <th>mobile_no</th>\n",
       "    </tr>\n",
       "  </thead>\n",
       "  <tbody>\n",
       "    <tr>\n",
       "      <th>0</th>\n",
       "      <td>1</td>\n",
       "      <td>mayank verma</td>\n",
       "      <td>hari verma</td>\n",
       "      <td>third</td>\n",
       "      <td>2020-05-20</td>\n",
       "      <td>male</td>\n",
       "      <td>8696931112</td>\n",
       "    </tr>\n",
       "    <tr>\n",
       "      <th>1</th>\n",
       "      <td>2</td>\n",
       "      <td>priyanshu</td>\n",
       "      <td>madan lal</td>\n",
       "      <td>third</td>\n",
       "      <td>2005-09-20</td>\n",
       "      <td>male</td>\n",
       "      <td>8696931756</td>\n",
       "    </tr>\n",
       "    <tr>\n",
       "      <th>2</th>\n",
       "      <td>3</td>\n",
       "      <td>anshika</td>\n",
       "      <td>anuj gupta</td>\n",
       "      <td>third</td>\n",
       "      <td>2027-03-20</td>\n",
       "      <td>female</td>\n",
       "      <td>8696931632</td>\n",
       "    </tr>\n",
       "    <tr>\n",
       "      <th>3</th>\n",
       "      <td>4</td>\n",
       "      <td>aarav</td>\n",
       "      <td>ranjit singh</td>\n",
       "      <td>third</td>\n",
       "      <td>2002-02-20</td>\n",
       "      <td>male</td>\n",
       "      <td>8696931489</td>\n",
       "    </tr>\n",
       "    <tr>\n",
       "      <th>4</th>\n",
       "      <td>5</td>\n",
       "      <td>nishant</td>\n",
       "      <td>vikash soni</td>\n",
       "      <td>third</td>\n",
       "      <td>2010-01-20</td>\n",
       "      <td>male</td>\n",
       "      <td>8696931753</td>\n",
       "    </tr>\n",
       "    <tr>\n",
       "      <th>5</th>\n",
       "      <td>6</td>\n",
       "      <td>vanshika</td>\n",
       "      <td>siddhatha namdev</td>\n",
       "      <td>third</td>\n",
       "      <td>2027-09-20</td>\n",
       "      <td>female</td>\n",
       "      <td>8696931159</td>\n",
       "    </tr>\n",
       "    <tr>\n",
       "      <th>6</th>\n",
       "      <td>7</td>\n",
       "      <td>anuraj</td>\n",
       "      <td>kapil sen</td>\n",
       "      <td>third</td>\n",
       "      <td>2030-11-20</td>\n",
       "      <td>male</td>\n",
       "      <td>8696931731</td>\n",
       "    </tr>\n",
       "  </tbody>\n",
       "</table>\n",
       "</div>"
      ],
      "text/plain": [
       "   roll_no  student_name       father_name  class         dob  gender  \\\n",
       "0        1  mayank verma        hari verma  third  2020-05-20    male   \n",
       "1        2     priyanshu         madan lal  third  2005-09-20    male   \n",
       "2        3       anshika        anuj gupta  third  2027-03-20  female   \n",
       "3        4         aarav      ranjit singh  third  2002-02-20    male   \n",
       "4        5       nishant       vikash soni  third  2010-01-20    male   \n",
       "5        6      vanshika  siddhatha namdev  third  2027-09-20  female   \n",
       "6        7        anuraj         kapil sen  third  2030-11-20    male   \n",
       "\n",
       "    mobile_no  \n",
       "0  8696931112  \n",
       "1  8696931756  \n",
       "2  8696931632  \n",
       "3  8696931489  \n",
       "4  8696931753  \n",
       "5  8696931159  \n",
       "6  8696931731  "
      ]
     },
     "metadata": {},
     "output_type": "display_data"
    }
   ],
   "source": [
    "#fectching records order by\n",
    "\n",
    "Q5 =\"select * from student order by roll_no;\"\n",
    "\n",
    "connection = create_db_connection(\"localhost\",\"root\",ps,db)\n",
    "results = read_query(connection,Q5)\n",
    "\n",
    "from_db=[]\n",
    "for result in results:\n",
    "    result=list(result)\n",
    "    from_db.append(result)\n",
    "columns = [\"roll_no\",\"student_name\",\"father_name\",\"class\",\"dob\",\"gender\",\"mobile_no\"]\n",
    "df = pd.DataFrame(from_db,columns=columns)\n",
    "display(df)"
   ]
  },
  {
   "cell_type": "code",
   "execution_count": null,
   "id": "647631fd",
   "metadata": {},
   "outputs": [],
   "source": []
  }
 ],
 "metadata": {
  "kernelspec": {
   "display_name": "Python 3 (ipykernel)",
   "language": "python",
   "name": "python3"
  },
  "language_info": {
   "codemirror_mode": {
    "name": "ipython",
    "version": 3
   },
   "file_extension": ".py",
   "mimetype": "text/x-python",
   "name": "python",
   "nbconvert_exporter": "python",
   "pygments_lexer": "ipython3",
   "version": "3.9.13"
  }
 },
 "nbformat": 4,
 "nbformat_minor": 5
}
